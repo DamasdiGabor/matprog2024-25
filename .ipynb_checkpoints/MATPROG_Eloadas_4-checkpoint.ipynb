{
 "cells": [
  {
   "cell_type": "markdown",
   "metadata": {
    "slideshow": {
     "slide_type": "slide"
    }
   },
   "source": [
    "# Matematikai Programcsomagok\n",
    "## 4. Sat solverek \n",
    "\n",
    "### 2025 március 4."
   ]
  },
  {
   "cell_type": "markdown",
   "metadata": {
    "slideshow": {
     "slide_type": "slide"
    }
   },
   "source": [
    "# Mercedes konfiguráció\n",
    "\n",
    "![sarkany](car_specs.jpg) \n"
   ]
  },
  {
   "cell_type": "markdown",
   "metadata": {
    "slideshow": {
     "slide_type": "subslide"
    }
   },
   "source": [
    "![sarkany](car_specs2.jpg) \n",
    "\n",
    "Képek forrása: Carsten Sinz https://www.carstensinz.de/talks/RISC-2005.pdf"
   ]
  },
  {
   "cell_type": "markdown",
   "metadata": {
    "slideshow": {
     "slide_type": "subslide"
    }
   },
   "source": [
    "### Ötlet: logikai formulák\n",
    "\n",
    "- Minden opcióhoz vezessünk be egy logikai változót.\n",
    "- Írjuk fel a feltételeket logikai formulákkal.\n",
    "- Írjuk fel a vásárló kívánságait logikai formulákkal.\n",
    "- Nézzük meg, hogy a két formula egyszerre megoldható-e.\n",
    "\n"
   ]
  },
  {
   "cell_type": "markdown",
   "metadata": {},
   "source": [
    "### Néhány hasonló alkamazott matematikai feladat:\n",
    "- Szoftverek, csomagok, operációs rendszerek stb kompatibilitása (lásd korábbi gondjainkat a python moduljaival)\n",
    "- Áramkörök tesztelése\n",
    "- Konzisztencia és korrektség ellenőrzés (pl felhasználói kézikönyvek között)\n",
    "- Optimalizációs kérdések (Max Sat, Súlyozott Max Sat)\n",
    "- Master-key rendszerek (Olyan kulcskészlet létrehozása, melyben megadott, hogy melyik ajtót pontosan melyikek nyissák)\n"
   ]
  },
  {
   "cell_type": "markdown",
   "metadata": {
    "slideshow": {
     "slide_type": "subslide"
    }
   },
   "source": [
    "# SAT\n",
    "\n",
    "A SAT (satisfyability, azaz kielégíthetőség) egy eldöntési probléma.  \n",
    "\n",
    "Adott egy logikai formula és az érdekel minket, hogy hozzá tudunk-e rendelni a változókhoz igaz/hamis értékeket úgy, hogy a formula igazzá váljon. Pl:\n",
    "\n",
    "$$(x_1\\lor \\lnot x_2)\\land (x_1\\lor x_3)\\land ((x_2 \\lor \\lnot x_3)\\land \\lnot x_4 )$$\n",
    "\n",
    "Ha ez lehetséges, akkor azt mondjuk, hogy a formula kielégíthető. Ez a konkrét példa kielégíthető, egy lehetséges kielégítés: $x_1,x_2,x_3$ igaz és $x_4$ hamis. "
   ]
  },
  {
   "cell_type": "markdown",
   "metadata": {
    "slideshow": {
     "slide_type": "fragment"
    }
   },
   "source": [
    "A SAT azért érdekes, mert sok más feladat visszavezethető rá. Tehát ha hatékonyan meg tudjuk oldani, egyszerre sok feladatra nyerünk megoldási módszert."
   ]
  },
  {
   "cell_type": "markdown",
   "metadata": {
    "slideshow": {
     "slide_type": "subslide"
    }
   },
   "source": [
    "\n",
    "Pár definíció:\n",
    "\n",
    "\n",
    "- **változó**: $x_1, x_2,$ stb.. \n",
    "- a változókat vagy negáltjaikat közös néven a (normál)forma **literál**jainak nevezzük;\n",
    "- a literálok diszjunkcióit pedig **klózoknak**\n",
    "- **konjuktív normálforma**: amikor a formula csak klózok konjukcióját tartalmazza. Azaz, \"összeéselünk\" néhány \"összevagyolt\" literált. \n",
    "\n",
    "$$(x_1\\lor \\lnot x_2 \\lor x_3)\\land (x_1\\lor x_2)\\land (x_2 \\lor \\lnot x_3\\lor \\lnot x_5 )$$\n",
    "- **diszjunktív normálforma**: amikor a kózokban van konjukció és a klózok diszjunkcióját vesszük. Azaz, \"összevagyolunk\" néhány \"összeéselt\" literált. \n",
    "\n",
    "\n",
    "\n",
    "$$(x_1\\lor \\lnot x_2 \\lor x_3)\\land (x_1\\lor x_2)\\land (x_2 \\lor \\lnot x_3\\lor \\lnot x_5 )$$\n",
    "\n",
    "- **SAT**: ha a feladat megoldható\n",
    "- **UNSAT**: ha a feladat nem megoldható"
   ]
  },
  {
   "cell_type": "markdown",
   "metadata": {
    "slideshow": {
     "slide_type": "subslide"
    }
   },
   "source": [
    "Tétel: Minden formula átalakítható konjuktív normálformára. \n",
    "\n",
    "| $x_1$ | $x_2$ | $x_3$ || $$(x_1 \\land x_2) \\lor (\\lnot x_2 \\land x_3)$$ |\n",
    "|-------|-------|-------||------------------------------------------------|\n",
    "| 0     | 0     | 0     || 0                                              |\n",
    "| 0     | 0     | 1     || 1                                              |\n",
    "| 0     | 1     | 0     || 0                                              |\n",
    "| 0     | 1     | 1     || 0                                              |\n",
    "| 1     | 0     | 0     || 0                                              |\n",
    "| 1     | 0     | 1     || 1                                              |\n",
    "| 1     | 1     | 0     || 1                                              |\n",
    "| 1     | 1     | 1     || 1                                              |\n",
    "\n",
    "Minden hamis sorra garantálni akarjuk, hogy nem fordulhat elő: \n",
    "\n",
    "$$(x_1\\lor x_2 \\lor x_3) \\land(x_1\\lor \\lnot x_2 \\lor x_3) \\land (x_1\\lor \\lnot x_2 \\lor \\lnot x_3) \\land(\\lnot x_1\\lor x_2 \\lor x_3) $$\n",
    "\n"
   ]
  },
  {
   "cell_type": "markdown",
   "metadata": {
    "slideshow": {
     "slide_type": "subslide"
    }
   },
   "source": [
    "## Sat megoldása\n",
    "\n"
   ]
  },
  {
   "cell_type": "markdown",
   "metadata": {
    "slideshow": {
     "slide_type": "fragment"
    }
   },
   "source": [
    "Nehéz, a feladat NP teljes!\n",
    "\n",
    "A 3-SAT feladatban még azt is feltesszük, hogy minden klóz legfeljebb 3 literált tartalmaz. Még ekkor is nehéz!\n",
    "\n",
    "A 2-SAT feladatban még azt is feltesszük, hogy minden klóz legfeljebb 2 literált tartalmaz. Na ez már könnyű.\n"
   ]
  },
  {
   "cell_type": "markdown",
   "metadata": {
    "slideshow": {
     "slide_type": "subslide"
    }
   },
   "source": [
    "Egy egyszerű rekurzív megoldás:\n",
    "\n",
    "    \n",
    "1. Válasszunk egy változót, aminek még nincs hozzárendelt értéke. Ha nincs ilyen, akkor SAT.\n",
    "2. Rendeljünk hozzá egy igazságértéket (igaz/hamis)\n",
    "3. Vizsgáljuk meg, hogy minden klóz kielégíthető-e még.\n",
    "  - Ha igen, akkor vissza az első pontra  \n",
    "  - Ha nem, akkor vissza a második pontra és próbáljuk a másik igazság értéket.\n",
    "  - Ha nem és már mindkét értéket próbáltuk, backtrackkelünk.\n",
    "  - Ha már nem lehet backtrackkelni, akkor UNSAT\n"
   ]
  },
  {
   "cell_type": "markdown",
   "metadata": {
    "slideshow": {
     "slide_type": "subslide"
    }
   },
   "source": [
    "**Első javítás**: Ellenőrzés helyett frissítsük a formulát. Ha egy $x$ változót igazra állítottunk, eldobhatunk minden klózt, ahol $x$ szerepel. Ha pedig hamisra, akkor minden klózt, ahol $\\lnot x$ szerepel. \n",
    "\n",
    "Ha egy $x$ változót igazra állítottunk, akkor minden klózból törölhető $\\lnot x$ ahol szerpel.  Ha pedig hamisra, akkor minden klózból törölhető $x$.\n",
    "\n"
   ]
  },
  {
   "cell_type": "markdown",
   "metadata": {
    "slideshow": {
     "slide_type": "subslide"
    }
   },
   "source": [
    "    \n",
    "1. Válasszunk egy $x$ változót, aminek még nincs hozzárendelt értéke. Ha nincs ilyen, akkor SAT\n",
    "2. Rendeljünk hozzá egy igazságértéket (igaz/hamis)\n",
    "3. Dobjuk el a már kielégített klózokat.\n",
    "4. Dobjuk el a $x$-et és $\\lnot x$ a megmaradt klózokból. \n",
    "5. Vizsgáljuk meg, hogy van-e üres klóz.\n",
    "  - Ha nincs, akkor vissza az első pontra. \n",
    "  - Ha van, akkor vissza a második pontra és próbáljuk a másik igazság értéket.\n",
    "  - Ha van, és már mindkét értéket próbáltuk, backtrackkelünk.\n",
    "  - Ha már nem lehet backtrackkelni, akkor UNSAT\n"
   ]
  },
  {
   "cell_type": "markdown",
   "metadata": {
    "slideshow": {
     "slide_type": "subslide"
    }
   },
   "source": [
    "Még két ötlet:\n",
    "- **unit propagation**: Ha a 4. lépés után van olyan klóz, amiben csak egyetlen változó van, akkor annak tudjuk az értékét. Annak beállítása után újra érdemes a 3. és 4. lépést végrehajtani. \n",
    "\n",
    "- **pure ellimination**: Ha egy változó csak pozitív / csak negatív literálként szerpel akkor megéri bállítani igazra/hamisra, hiszen semmit sem ronthat el. Tehát minden őt tartalmazó klóz eldobható. "
   ]
  },
  {
   "cell_type": "markdown",
   "metadata": {
    "slideshow": {
     "slide_type": "subslide"
    }
   },
   "source": [
    "### DPLL algoritmus\n",
    "\n",
    "    \n",
    "1. Válasszunk egy $x$ változót, aminek még nincs hozzárendelt értéke. Ha nincs ilyen, akkor SAT\n",
    "2. Rendeljünk hozzá egy igazságértéket (igaz/hamis)\n",
    "3. Dobjuk el a már kielégített klózokat.\n",
    "4. Dobjuk el a $x$-et és $\\lnot x$ a megmaradt klózokból. \n",
    "5. Unit propagation és pure ellimination amíg lehet. \n",
    "6. Vizsgáljuk meg, hogy van-e üres klóz.\n",
    "  - Nincs akkor vissza az első pontra. \n",
    "  - Ha van, akkor vissza a második pontra és próbáljuk a másik igazság értéket.\n",
    "  - Ha van, és már mindkét értéket próbáltuk, backtrackkelünk.\n",
    "  - Ha már nem lehet backtrackkelni, akkor UNSAT\n"
   ]
  },
  {
   "cell_type": "markdown",
   "metadata": {
    "slideshow": {
     "slide_type": "subslide"
    }
   },
   "source": [
    "Ez csak a stratégia, és a lépések megvalósításán nagyon sok múlik!\n",
    "\n",
    "Egyik ötlet: \"Watch list\"-ek használata. Minden klózhoz hozzárendeljük az egyik literálját. Egy klózt nem kell addig ellenőrizni, amíg a kijelölt változóhoz nem érünk, hiszen addig nem lehetünk benne biztosak, hogy hamisat adna a klóz. Amikor a megadott változóhoz érünk megpróbálunk egy másik kiértékeletlen változót választani a kózhoz. Ha ez nem megy csak akkor backtrackelünk. \n",
    "\n",
    "A backtracknél nem nyúlunk a watch listekhez!"
   ]
  },
  {
   "cell_type": "markdown",
   "metadata": {
    "slideshow": {
     "slide_type": "subslide"
    }
   },
   "source": [
    "## Példa Sat solverre (nem DPLL!)\n",
    "Tutorial: https://sahandsaba.com/understanding-sat-by-implementing-a-simple-sat-solver-in-python.html"
   ]
  },
  {
   "cell_type": "markdown",
   "metadata": {
    "slideshow": {
     "slide_type": "subslide"
    }
   },
   "source": [
    "### Formula elkódolása\n",
    "- Minden változó egy egész szám, ha negálva van akkor a szám ellentetje:\n",
    "\n",
    "$$(x_1\\lor x_2 \\lor \\lnot x_3)\\land (\\lnot x_1 \\lor x_4)$$ \n",
    "\n",
    "Elkódolva: `[[1,2,-3],[-1,4]]`\n"
   ]
  },
  {
   "cell_type": "code",
   "execution_count": null,
   "metadata": {
    "slideshow": {
     "slide_type": "subslide"
    }
   },
   "outputs": [],
   "source": [
    "class SATfeladat():\n",
    "    def __init__(self):\n",
    "        self.variables = []\n",
    "        self.clauses = []\n",
    "        \n",
    "    def add_clause(self,clau):\n",
    "        if clau not in self.clauses:\n",
    "            self.clauses.append(clau)\n",
    "            self.variables=self.variables+[abs(var) for var in clau if (abs(var) not in self.variables)]\n",
    "\n",
    "    def add_clauses(self,claus):\n",
    "        for c in claus:\n",
    "            self.add_clause(c)\n",
    "            \n",
    "    "
   ]
  },
  {
   "cell_type": "code",
   "execution_count": null,
   "metadata": {},
   "outputs": [],
   "source": [
    "s=SATfeladat()\n",
    "s.add_clause([1,2])\n",
    "s.add_clause([-2,3])\n",
    "s.add_clauses([[-3,4],[4,5]])\n",
    "print(\"Klózok: \",s.clauses)\n",
    "print(\"Változók:\", s.variables)"
   ]
  },
  {
   "cell_type": "markdown",
   "metadata": {
    "slideshow": {
     "slide_type": "subslide"
    }
   },
   "source": [
    "#### Watch listek megvalósítása\n",
    "\n",
    "Milyen adatszerkezetet használjunk?"
   ]
  },
  {
   "cell_type": "code",
   "execution_count": null,
   "metadata": {
    "slideshow": {
     "slide_type": "fragment"
    }
   },
   "outputs": [],
   "source": [
    "def setup_watchlist(instance):\n",
    "    watchlist = {literal:[]  for literal in list(instance.variables)+[-x for x in instance.variables]}\n",
    "    for clause in instance.clauses:\n",
    "        # A klóz az első literálját figyeli\n",
    "        watchlist[clause[0]].append(clause)\n",
    "    return watchlist"
   ]
  },
  {
   "cell_type": "code",
   "execution_count": null,
   "metadata": {},
   "outputs": [],
   "source": [
    "s=SATfeladat()\n",
    "s.add_clause([1,2,])\n",
    "s.add_clause([-2,3])\n",
    "s.add_clauses([[-3,4],[-3,4,5]])\n",
    "\n",
    "print(\"Klózok:\",s.clauses)\n",
    "wl=setup_watchlist(s)\n",
    "print(\"Watch listek:\",wl)"
   ]
  },
  {
   "cell_type": "code",
   "execution_count": null,
   "metadata": {
    "slideshow": {
     "slide_type": "subslide"
    }
   },
   "outputs": [],
   "source": [
    "def update_watchlist(instance,\n",
    "                     watchlist,\n",
    "                     false_literal,\n",
    "                     assignment,\n",
    "                     verbose):\n",
    "    \"\"\"\n",
    "    A watch listek frissítése miután 'false_literal'-hoz hozzárendeltünk hamis értéket. \n",
    "    Hamissal tér vissza ha a frissítés nem lehetséges, azaz az aktuális hozzárendelés ellentmondásra vezet. \n",
    "    \"\"\"\n",
    "    while watchlist[false_literal]:\n",
    "        clause = watchlist[false_literal][0]\n",
    "        found_alternative = False\n",
    "        for alternative in clause:\n",
    "            v = abs(alternative)\n",
    "            a = alternative>0\n",
    "            if assignment[v] is None or assignment[v] == a:\n",
    "                found_alternative = True\n",
    "                del watchlist[false_literal][0]\n",
    "                watchlist[alternative].append(clause)\n",
    "                break\n",
    "\n",
    "        if not found_alternative:\n",
    "            if verbose:\n",
    "                print('Aktuális hozzárendelés: {}'.format(assigment))\n",
    "                print('A {} klóz ellentmondásra vezetett.'.format(clause))\n",
    "            return False\n",
    "    return True"
   ]
  },
  {
   "cell_type": "code",
   "execution_count": null,
   "metadata": {
    "slideshow": {
     "slide_type": "subslide"
    }
   },
   "outputs": [],
   "source": [
    "s=SATfeladat()\n",
    "s.add_clause([1,2])\n",
    "s.add_clause([2,3])\n",
    "s.add_clauses([[-3,4]])\n",
    "\n",
    "print('Klózok',s.clauses)\n",
    "print('Változók',s.variables)\n",
    "wl=setup_watchlist(s)\n",
    "print('Kezdeti wl', wl)\n",
    "assigment={x:None for x in s.variables}\n",
    "assigment[1]=False\n",
    "update_watchlist(s,wl,1,assigment,True)\n",
    "print('Update utáni wl', wl)\n",
    "assigment[2]=False\n",
    "update_watchlist(s,wl,2,assigment,True)\n",
    "print(wl)"
   ]
  },
  {
   "cell_type": "code",
   "execution_count": null,
   "metadata": {
    "slideshow": {
     "slide_type": "subslide"
    }
   },
   "outputs": [],
   "source": [
    "def solve(instance, watchlist, assignment, d, verbose):\n",
    "    \"\"\"\n",
    "    Rekurzívan megoldjuk a SAT feladatot a d. változótól kezdve, feltéve, hogy a az első d változónak már van éréke. \n",
    "    Egy generátor objektummal térünk vissza, ami felsorolja a megoldásokat. \n",
    "    \"\"\"\n",
    "    if d == len(instance.variables):\n",
    "        yield assignment\n",
    "        return\n",
    "\n",
    "    for a in [False, True]:\n",
    "        if verbose:\n",
    "            print('Próba {} = {} '.format(instance.variables[d], a))\n",
    "        assignment[instance.variables[d]] = a\n",
    "        if update_watchlist(instance,\n",
    "                            watchlist,\n",
    "                            instance.variables[d]*((-1)**(int(a))),\n",
    "                            assignment,\n",
    "                            verbose):\n",
    "            for b in solve(instance, watchlist, assignment, d + 1, verbose):\n",
    "                yield b\n",
    "\n",
    "    assignment[instance.variables[d]] = None"
   ]
  },
  {
   "cell_type": "code",
   "execution_count": null,
   "metadata": {
    "slideshow": {
     "slide_type": "subslide"
    }
   },
   "outputs": [],
   "source": [
    "s=SATfeladat()\n",
    "s.add_clause([1,2])\n",
    "s.add_clause([-2,3])\n",
    "s.add_clause([-3,-1])\n",
    "\n",
    "print(s.clauses)\n",
    "print(s.variables)\n",
    "wl=setup_watchlist(s)\n",
    "print(wl)\n",
    "assigment={x:None for x in s.variables}\n",
    "sols=solve(s,wl,assigment,0,True)"
   ]
  },
  {
   "cell_type": "code",
   "execution_count": null,
   "metadata": {
    "slideshow": {
     "slide_type": "subslide"
    }
   },
   "outputs": [],
   "source": [
    "for x in sols:\n",
    "    print(\"Megoldás:\",x)"
   ]
  },
  {
   "cell_type": "markdown",
   "metadata": {
    "slideshow": {
     "slide_type": "subslide"
    }
   },
   "source": [
    "### Egyéb javítási technikák\n",
    "\n"
   ]
  },
  {
   "cell_type": "markdown",
   "metadata": {},
   "source": [
    "#### Klózok tanulása\n",
    "A program futása közben új klózokat hozunk létre, melyek a korábbiakból következnek.\n",
    "\n",
    " Ha $(A\\lor B\\lor C)$ és $(\\neg C\\lor D\\lor \\neg E)$ akkor $(A\\lor B\\lor D\\lor \\neg E)$."
   ]
  },
  {
   "cell_type": "markdown",
   "metadata": {},
   "source": [
    "#### Preprocessing és Inprocessing\n",
    "\n",
    "Futás előtt és időnként közben kicsit átalakítjuk a formulát."
   ]
  },
  {
   "cell_type": "markdown",
   "metadata": {
    "slideshow": {
     "slide_type": "subslide"
    }
   },
   "source": [
    "#### Klóz heurisztika:\n",
    "\n",
    "Ha túl sok új klózt tanulunk meg, akkor lelassul minden. Ezért néha töröljünk. De mi alapján válasszuk a törlendőt?\n",
    "\n",
    "- Aktivitás: ritkán használt klózok valószínűleg nem fontosak\n",
    "- Literal Block Distance (LBD): A klózban lévő változók a rekurzió milyen szintjén lettek beállítva. Minél kevesebb szint, annál értékesebb a klóz. \n",
    "- Klóz mérete"
   ]
  },
  {
   "cell_type": "markdown",
   "metadata": {
    "slideshow": {
     "slide_type": "subslide"
    }
   },
   "source": [
    "#### Változó heurisztika\n",
    "\n",
    "A változók kiértékelésének sorrendje is erősen számít. Egy lehetséges stratégia:\n",
    "\n",
    "Minden változóhoz fenttartunk egy pontszámot, ami kezdetben 0. Ha a rekurzió során ellentmondásba futunk, akkor az ellentmondásban részt vevő változók pontszámát növeljük valamilyen $C_1$ konstanssal. Minden k darab konfliktus után minden változó pontszámát megszorozzuk egy $C_2$ konstanssal. "
   ]
  },
  {
   "cell_type": "markdown",
   "metadata": {
    "slideshow": {
     "slide_type": "subslide"
    }
   },
   "source": [
    "#### Újraindítások\n",
    "\n",
    "Időnként újraindítjuk az egész futást, de megtartva bizonyos információkat, például a megtanult klózokat. Azt is megjegyezzük, hogy utoljára kihez mi volt rendelve és azzal próbálkozunk majd először az új futás során.\n",
    "\n",
    "Az újraindításokra is sok stratégia létezik, mostánban az agresszív újraindítgatást szokták preferálni."
   ]
  },
  {
   "cell_type": "markdown",
   "metadata": {},
   "source": [
    "Fontos, hogy bár a sat solvereken sokat lehet gyorsítani, de azért az alapvető sebesség problémát nem tudjuk kikerülni. Egy nem triviális formula pár száz változóval is megoldhatatlan lehet a mai solverekkel."
   ]
  },
  {
   "cell_type": "markdown",
   "metadata": {
    "slideshow": {
     "slide_type": "subslide"
    }
   },
   "source": [
    "## Sat solverek felhasználása. \n",
    "\n",
    "Látszólag bármit megold, hiszen bármilyen függvény felírható SAT alakban. Viszont a SAT felíráshoz tudni kellene hogy, mely bemenetekre igaz a függvény, úgyhogy ugyanott vagyunk. "
   ]
  },
  {
   "cell_type": "markdown",
   "metadata": {},
   "source": [
    "### Példa: Gráf színezés\n",
    "- Ha k színnel szeretnénk színezni, minden $v$ csúcshoz felveszünk k változót: $v_1,\\dots,v_k$. A $v_i$ változóra úgy gondolunk, hogy \"a $v$ csúcs $i$ színű\".\n",
    "- Színezés feltételei:\n",
    "  - minden csúcs kap színt: $v_1\\lor \\dots \\lor v_k$ \n",
    "  - Egy él két végpontja különböző: $\\lnot v_i \\lor \\lnot w_i$ minden $i$-re és minden $vw$ élre."
   ]
  },
  {
   "cell_type": "markdown",
   "metadata": {
    "slideshow": {
     "slide_type": "subslide"
    }
   },
   "source": [
    "### Példa: Pitagoraszi hármasok problémája. \n",
    "\n",
    "Lehetséges a pozitív természetes számokat két csoporta osztani úgy, hogy egyik csoport sem tartalmazzon olyan $(a, b, c)$  hármast, amire $a^2+b^2=c^2$.\n",
    "\n",
    "Válasz: nem lehetséges! 1-től 7825-ig már nem megoldható. \n",
    "\n",
    "Marijn J. H. Heule, Oliver Kullmann, Victor W. Marek 2016\n",
    "\n",
    "800 mag és 2 nap, 200 terabyteos bizonyítás."
   ]
  },
  {
   "cell_type": "markdown",
   "metadata": {
    "slideshow": {
     "slide_type": "subslide"
    }
   },
   "source": [
    "## PySat:\n",
    "\n",
    "Egy python csomag, melyel hatékony, nem pythonban írt SAT solvereket lehet meghívni. Pl:\n",
    "\n",
    "- CaDiCaL \n",
    "- Glucose \n",
    "- Minisat "
   ]
  },
  {
   "cell_type": "code",
   "execution_count": null,
   "metadata": {
    "slideshow": {
     "slide_type": "subslide"
    }
   },
   "outputs": [],
   "source": [
    "from pysat.solvers import Glucose3"
   ]
  },
  {
   "cell_type": "code",
   "execution_count": null,
   "metadata": {},
   "outputs": [],
   "source": [
    "ssolver = Glucose3()\n",
    "ssolver.add_clause([1,2,-3])\n",
    "ssolver.add_clause([1,2])\n",
    "ssolver.add_clause([-2,-3])\n",
    "ssolver.add_clause([2])\n",
    "ssolver.solve()\n",
    "ans=ssolver.get_model() \n",
    "ssolver.delete()\n",
    "print(ans)"
   ]
  },
  {
   "cell_type": "code",
   "execution_count": null,
   "metadata": {
    "slideshow": {
     "slide_type": "subslide"
    }
   },
   "outputs": [],
   "source": [
    "import math\n",
    "# pytagoraszi hármasok\n",
    "\n",
    "def pythagoreanTriplets(limits) :\n",
    "    ans_list=[]\n",
    "    for a in range(1,limits+1):\n",
    "        for b in range(a,limits+1):\n",
    "            c=math.floor(math.sqrt(a**2+b**2))\n",
    "            if c<=limits and a**2+b**2==c**2:\n",
    "                ans_list.append((a,b,c))\n",
    "    \n",
    "    return ans_list"
   ]
  },
  {
   "cell_type": "code",
   "execution_count": null,
   "metadata": {},
   "outputs": [],
   "source": [
    "print(pythagoreanTriplets(20))\n"
   ]
  },
  {
   "cell_type": "code",
   "execution_count": null,
   "metadata": {
    "slideshow": {
     "slide_type": "subslide"
    }
   },
   "outputs": [],
   "source": [
    "limit=2000\n",
    "triples=pythagoreanTriplets(limit)\n",
    "print('Számhármasok száma:', len(triples))\n",
    "ssolver = Glucose3()\n",
    "for tri in triples:\n",
    "    ssolver.add_clause(tri)\n",
    "    ssolver.add_clause((-x for x in tri ))\n",
    "    \n",
    "ssolver.solve()\n",
    "ans=ssolver.get_model() \n",
    "ssolver.delete()\n",
    "print(ans)"
   ]
  },
  {
   "cell_type": "code",
   "execution_count": null,
   "metadata": {},
   "outputs": [],
   "source": []
  }
 ],
 "metadata": {
  "celltoolbar": "Slideshow",
  "kernelspec": {
   "display_name": "Python 3",
   "language": "python",
   "name": "python3"
  },
  "language_info": {
   "codemirror_mode": {
    "name": "ipython",
    "version": 3
   },
   "file_extension": ".py",
   "mimetype": "text/x-python",
   "name": "python",
   "nbconvert_exporter": "python",
   "pygments_lexer": "ipython3",
   "version": "3.7.4"
  }
 },
 "nbformat": 4,
 "nbformat_minor": 2
}
