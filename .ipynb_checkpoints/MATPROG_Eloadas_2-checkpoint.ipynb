{
 "cells": [
  {
   "cell_type": "markdown",
   "metadata": {
    "slideshow": {
     "slide_type": "slide"
    }
   },
   "source": [
    "# Matematikai Programcsomagok\n",
    "\n",
    "## 2. Python csomagok, virtuális környezetek.\n",
    "\n",
    "### 2025 február 18."
   ]
  },
  {
   "cell_type": "markdown",
   "metadata": {
    "slideshow": {
     "slide_type": "subslide"
    }
   },
   "source": [
    "## Kitérő: `PATH` változó\n",
    "\n",
    "Ha el akarunk indítani egy programot, akkor az operációs rendszer alapvetően abban a mappában keresi a programot, ahol kiadtuk az indítási parancsot. Ha szeretnénk, hogy máshol is keressen akkor a `PATH` változóban kell megadni a keresési mappákat."
   ]
  },
  {
   "cell_type": "code",
   "execution_count": 1,
   "metadata": {},
   "outputs": [
    {
     "name": "stdout",
     "output_type": "stream",
     "text": [
      "C:\\ProgramData\\Anaconda3;C:\\ProgramData\\Anaconda3\\Library\\mingw-w64\\bin;C:\\ProgramData\\Anaconda3\\Library\\usr\\bin;C:\\ProgramData\\Anaconda3\\Library\\bin;C:\\ProgramData\\Anaconda3\\Scripts;C:\\Program Files (x86)\\NVIDIA Corporation\\PhysX\\Common;C:\\WINDOWS\\system32;C:\\WINDOWS;C:\\WINDOWS\\System32\\Wbem;C:\\WINDOWS\\System32\\WindowsPowerShell\\v1.0\\;C:\\Program Files (x86)\\Calibre2\\;C:\\WINDOWS\\System32\\OpenSSH\\;C:\\Program Files\\Intel\\WiFi\\bin\\;C:\\Program Files\\Common Files\\Intel\\WirelessCommon\\;C:\\Program Files\\MiKTeX\\miktex\\bin\\x64\\;c:\\Program Files (x86)\\Intel\\Intel(R) Management Engine Components\\DAL;c:\\Program Files\\Intel\\Intel(R) Management Engine Components\\DAL;C:\\Program Files\\Git\\cmd;C:\\Program Files\\PuTTY\\;C:\\Users\\P lv”lgyi D”m”t”r\\AppData\\Local\\Programs\\Python\\Launcher\\;C:\\Users\\P lv”lgyi D”m”t”r\\AppData\\Local\\Microsoft\\WindowsApps;C:\\Users\\P lv”lgyi D”m”t”r\\Desktop\\ffmpeg\\bin;C:\\Users\\P lv”lgyi D”m”t”r\\AppData\\Local\\GitHubDesktop\\bin;C:\\Users\\P lv”lgyi D”m”t”r\\Desktop\\maf2022-23\\maf2\\scriptek\\dist;\n"
     ]
    }
   ],
   "source": [
    "!echo %PATH%"
   ]
  },
  {
   "cell_type": "code",
   "execution_count": 2,
   "metadata": {},
   "outputs": [
    {
     "name": "stdout",
     "output_type": "stream",
     "text": [
      "C:\\ProgramData\\Anaconda3\n",
      "C:\\ProgramData\\Anaconda3\\Library\\mingw-w64\\bin\n",
      "C:\\ProgramData\\Anaconda3\\Library\\usr\\bin\n",
      "C:\\ProgramData\\Anaconda3\\Library\\bin\n",
      "C:\\ProgramData\\Anaconda3\\Scripts\n",
      "C:\\Program Files (x86)\\NVIDIA Corporation\\PhysX\\Common\n",
      "C:\\WINDOWS\\system32\n",
      "C:\\WINDOWS\n",
      "C:\\WINDOWS\\System32\\Wbem\n",
      "C:\\WINDOWS\\System32\\WindowsPowerShell\\v1.0\\\n",
      "C:\\Program Files (x86)\\Calibre2\\\n",
      "C:\\WINDOWS\\System32\\OpenSSH\\\n",
      "C:\\Program Files\\Intel\\WiFi\\bin\\\n",
      "C:\\Program Files\\Common Files\\Intel\\WirelessCommon\\\n",
      "C:\\Program Files\\MiKTeX\\miktex\\bin\\x64\\\n",
      "c:\\Program Files (x86)\\Intel\\Intel(R) Management Engine Components\\DAL\n",
      "c:\\Program Files\\Intel\\Intel(R) Management Engine Components\\DAL\n",
      "C:\\Program Files\\Git\\cmd\n",
      "C:\\Program Files\\PuTTY\\\n",
      "C:\\Users\\P lv”lgyi D”m”t”r\\AppData\\Local\\Programs\\Python\\Launcher\\\n",
      "C:\\Users\\P lv”lgyi D”m”t”r\\AppData\\Local\\Microsoft\\WindowsApps\n",
      "C:\\Users\\P lv”lgyi D”m”t”r\\Desktop\\ffmpeg\\bin\n",
      "C:\\Users\\P lv”lgyi D”m”t”r\\AppData\\Local\\GitHubDesktop\\bin\n",
      "C:\\Users\\P lv”lgyi D”m”t”r\\Desktop\\maf2022-23\\maf2\\scriptek\\dist\n",
      "\n"
     ]
    }
   ],
   "source": [
    "!echo %PATH:;=&echo.%"
   ]
  },
  {
   "cell_type": "markdown",
   "metadata": {},
   "source": [
    "Egy pythonosabb megoldás:"
   ]
  },
  {
   "cell_type": "code",
   "execution_count": null,
   "metadata": {},
   "outputs": [],
   "source": [
    "import os\n",
    "os.environ['PATH']"
   ]
  },
  {
   "cell_type": "markdown",
   "metadata": {
    "slideshow": {
     "slide_type": "subslide"
    }
   },
   "source": [
    "### Példa: FFmpeg\n",
    " \n",
    " - FFmpeg egy videó szerkesztéshez használt könyvtár, sok program használja\n",
    " \n",
    " "
   ]
  },
  {
   "cell_type": "markdown",
   "metadata": {
    "slideshow": {
     "slide_type": "subslide"
    }
   },
   "source": [
    "## Programozás Jupyter nélkül\n",
    "\n"
   ]
  },
  {
   "cell_type": "markdown",
   "metadata": {},
   "source": [
    "### Python scriptek\n",
    "\n",
    "Általában a kiterjesztés `.py`\n",
    "\n",
    "Futtatás: `python file.py` vagy `python3 file.py` \n",
    "\n",
    "Eredmény fájlba írása: `python file.py > kimenet.txt`"
   ]
  },
  {
   "cell_type": "markdown",
   "metadata": {
    "slideshow": {
     "slide_type": "-"
    }
   },
   "source": [
    "### Parancssori argumentumokat \n",
    "\n",
    "\n",
    "A sys modult használhatjuk, egy listát kapunk melyhez `sys.argv` módon férhetünk hozzá.\n",
    "\n",
    "\n",
    "A parancssori argumentumokat stringként olvassa be!\n",
    " \n",
    " "
   ]
  },
  {
   "cell_type": "markdown",
   "metadata": {
    "slideshow": {
     "slide_type": "subslide"
    }
   },
   "source": [
    "## Program futatása szerveren\n",
    "- putty: Ingyenes ssh kapcsolatot létrehozó program, ezzel jelentkezhetünk be.\n",
    "- WinSCP: Grafikus bejelentkezés szerverre\n",
    "- Hasznos parancsok: top, kill, nohup\n",
    "- Időzített futtatások: crontab"
   ]
  },
  {
   "cell_type": "markdown",
   "metadata": {
    "slideshow": {
     "slide_type": "subslide"
    }
   },
   "source": [
    "## Saját modul írása\n",
    "\n",
    "Egy `module` semmi más csak egy python script. \n",
    "\n",
    "Egy csomag (`package`) több modulból álló rendszer."
   ]
  },
  {
   "cell_type": "markdown",
   "metadata": {
    "slideshow": {
     "slide_type": "fragment"
    }
   },
   "source": [
    "### Modulok használata\n",
    "\n",
    "#### Module Search Path\n",
    "\n",
    "Nagyjából úgy működik mint a szokásos PATH változó, a megadott helyeken keresi a python modulokat. Három helyen keres:\n",
    "\n",
    "- Az adott mappa\n",
    "- A PYTHONPATH környezeti változóba elmentett mappákban\n",
    "- Python instalálástól függő beállított mappákban\n"
   ]
  },
  {
   "cell_type": "code",
   "execution_count": null,
   "metadata": {
    "slideshow": {
     "slide_type": "subslide"
    }
   },
   "outputs": [],
   "source": [
    "import sys\n",
    "sys.path"
   ]
  },
  {
   "cell_type": "markdown",
   "metadata": {},
   "source": [
    "A 'PYTHONPATH' a PATH változóval azonos módon beállítható. \n",
    "\n",
    "```import os\n",
    "os.environ['PYTHONPATH']```"
   ]
  },
  {
   "cell_type": "markdown",
   "metadata": {
    "slideshow": {
     "slide_type": "subslide"
    }
   },
   "source": [
    "####  `__name__` használata \n",
    "\n",
    "A `__name__` változó a modul nevére állítódik be, kivéve ha közvetlenül a modult futtatjuk. Ekkor `__main__` lesz. Így megadhatunk olyan kódot, ami importáláskor nem fut le:\n",
    "\n",
    "`if __name__ == \"__main__\":`"
   ]
  },
  {
   "cell_type": "markdown",
   "metadata": {
    "slideshow": {
     "slide_type": "slide"
    }
   },
   "source": [
    "## Saját package létrehozás\n",
    "\n",
    "Tutorial: https://packaging.python.org/tutorials/packaging-projects/\n"
   ]
  },
  {
   "cell_type": "markdown",
   "metadata": {
    "slideshow": {
     "slide_type": "subslide"
    }
   },
   "source": [
    "# Virtuális környezetek (virtual environment)\n",
    "https://conda.io/projects/conda/en/latest/user-guide/tasks/manage-environments.html\n",
    "\n",
    "\n",
    "A virtuális környezetek lényege, hogy könnyebben tudjuk a packageket/modulokat rendszerezni és használni. Minden egyes környezetben a többitől függetlenül lehetnek csomagjaink. Így például nem okoz gondot, ha különböző projektek egy adott csomagnak különböző verziót használják.\n",
    "\n",
    "Több lehetőség van környezetek létrehozására, mi most a `conda`-t nézzük meg."
   ]
  },
  {
   "cell_type": "markdown",
   "metadata": {
    "slideshow": {
     "slide_type": "subslide"
    }
   },
   "source": [
    "Alapvetően az `envs` mappába instalálódnak a környezetek."
   ]
  },
  {
   "cell_type": "markdown",
   "metadata": {},
   "source": [
    "- Létrehozás: `!conda create --name korny_nev`\n",
    "\n",
    "- `conda create -n myenv python=3.6 scipy=0.15.0 astroid babel`\n",
    "\n",
    "- Váltás adott környezetre: `conda activate korny_nev`\n",
    "\n",
    "- Kikapcsolás `conda deactivate`\n",
    "\n",
    "- [Cheat sheet](https://docs.conda.io/projects/conda/en/4.6.0/_downloads/52a95608c49671267e40c689e0bc00ca/conda-cheatsheet.pdf)\n"
   ]
  },
  {
   "cell_type": "markdown",
   "metadata": {
    "slideshow": {
     "slide_type": "subslide"
    }
   },
   "source": [
    "Környezetek listája:\n"
   ]
  },
  {
   "cell_type": "code",
   "execution_count": null,
   "metadata": {},
   "outputs": [],
   "source": [
    "!conda env list"
   ]
  },
  {
   "cell_type": "markdown",
   "metadata": {
    "slideshow": {
     "slide_type": "subslide"
    }
   },
   "source": [
    "Adott környezet moduljai:"
   ]
  },
  {
   "cell_type": "code",
   "execution_count": null,
   "metadata": {},
   "outputs": [],
   "source": [
    "!conda list -n myenv"
   ]
  },
  {
   "cell_type": "markdown",
   "metadata": {
    "slideshow": {
     "slide_type": "subslide"
    }
   },
   "source": [
    "Mindeféle egyebeket is lehet, például:\n",
    "\n",
    "- környezet másolása\n",
    "- előre megadott csomagok instalálása\n",
    "- sok gépen azonos környezet létrehozása"
   ]
  },
  {
   "cell_type": "markdown",
   "metadata": {
    "slideshow": {
     "slide_type": "subslide"
    }
   },
   "source": [
    "# Mit tehetek ha mégis egy szokásos \"programot\" szeretnék fordítani?\n",
    "\n",
    "Ez akkor lehet hasznos, ha olyan gépen szeretnénk futtatni, ahol nincs python.\n",
    "\n",
    "`PyInstaller` \n",
    "\n",
    "Használat: \n",
    "\n",
    "`pyinstaller --onefile  myscript.py`"
   ]
  }
 ],
 "metadata": {
  "celltoolbar": "Slideshow",
  "kernelspec": {
   "display_name": "Python 3",
   "language": "python",
   "name": "python3"
  },
  "language_info": {
   "codemirror_mode": {
    "name": "ipython",
    "version": 3
   },
   "file_extension": ".py",
   "mimetype": "text/x-python",
   "name": "python",
   "nbconvert_exporter": "python",
   "pygments_lexer": "ipython3",
   "version": "3.7.4"
  }
 },
 "nbformat": 4,
 "nbformat_minor": 2
}
